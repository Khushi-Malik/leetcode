{
 "cells": [
  {
   "cell_type": "markdown",
   "metadata": {},
   "source": [
    "Dynamic Programming Basics\n",
    "\n",
    "Mechanisms of Dynamic Programming\n",
    "\n",
    "1. Problem Breakdown\n",
    "Divide the Problem: Identify how the main problem can be expressed in terms of smaller subproblems.\n",
    "Example: For Fibonacci,F(n)=F(n−1)+F(n−2).\n",
    "Overlapping Subproblems: Note that F(n−1) and F(n−2) may themselves need F(n−2),F(n−3),…, leading to repeated calculations.\n",
    "\n",
    "2. Optimal Substructure\n",
    "If a problem’s solution can be composed of optimal solutions to its subproblems, it satisfies optimal substructure.\n",
    "Example: In the shortest path problem, the shortest path from A→C passing through B is optimal if A→B and B→C are optimal.\n",
    "\n",
    "3. Storing Results (Memoization or Tabulation)\n",
    "\n",
    "Memoization (Top-Down):\n",
    "Use recursion to solve the problem, but save solutions to subproblems as they are computed.\n",
    "When the same subproblem is encountered again, use the saved result.\n",
    "\n",
    "Tabulation (Bottom-Up):\n",
    "Build the solution iteratively from the smallest subproblem to the full problem, storing results in a table.\n",
    "\n",
    "4. Avoiding Redundant Work\n",
    "By reusing previously computed results, DP avoids recalculating solutions for the same subproblem, leading to significant time savings"
   ]
  },
  {
   "cell_type": "markdown",
   "metadata": {},
   "source": [
    "Steps to Solve a DP Problem\n",
    "\n",
    "Step 1: Identify the Problem Type\n",
    "Dynamic programming is typically applied to:\n",
    "\n",
    "Optimization Problems: E.g., Maximize profit, minimize cost.\n",
    "Counting Problems: E.g., Count ways to achieve a target.\n",
    "\n",
    "Step 2: Define the State\n",
    "The state represents the smallest unit of the problem that can store intermediate solutions.\n",
    "\n",
    "Example: In the knapsack problem, the state can be defined as dp[i][w], where: \n",
    "        i: The first i items.\n",
    "        w: The maximum weight of the knapsack.\n",
    "\n",
    "Step 3: Formulate the Recurrence Relation\n",
    "Express the solution for a larger problem in terms of its subproblems.\n",
    "\n",
    "Example: In the knapsack problem:\n",
    "                dp[i][w]=max(dp[i−1][w],dp[i−1][w−wt[i]]+val[i])\n",
    "Either exclude or include the ith item.\n",
    "\n",
    "Step 4: Base Case\n",
    "Establish initial conditions.\n",
    "\n",
    "Example: In Fibonacci: F(0)=0,F(1)=1\n",
    "\n",
    "Step 5: Solve Iteratively or Recursively\n",
    "Memoization: Write recursive logic and store results in a dictionary or table.\n",
    "Tabulation: Write iterative logic and fill up the table systematically."
   ]
  },
  {
   "cell_type": "markdown",
   "metadata": {},
   "source": [
    "Patterns in Dynamic Programming\n",
    "\n",
    "1. Subset Problems\n",
    "Involves decisions about whether to include/exclude elements (e.g., knapsack, subset sum).\n",
    "Recurrence focuses on inclusion/exclusion logic.\n",
    "\n",
    "2. String Problems\n",
    "Problems like longest common subsequence or edit distance.\n",
    "Recurrence is often based on comparing characters at the current indices.\n",
    "\n",
    "3. Grid Problems\n",
    "Pathfinding in a grid with obstacles (e.g., unique paths).\n",
    "Recurrence focuses on moving from previous states.\n"
   ]
  },
  {
   "cell_type": "markdown",
   "metadata": {},
   "source": [
    "Example: Longest Common Subsequence (LCS)\n",
    "\n",
    "Problem:\n",
    "Find the longest subsequence common to two strings."
   ]
  },
  {
   "cell_type": "code",
   "execution_count": 5,
   "metadata": {},
   "outputs": [],
   "source": [
    "def lcs(string1, string2):\n",
    "    # Step 1: Determine lengths of the strings\n",
    "    n = len(string1)  # Length of the first string\n",
    "    m = len(string2)  # Length of the second string\n",
    "\n",
    "    # Step 2: Initialize a DP table of size (n+1) x (m+1) filled with 0\n",
    "    dp = []\n",
    "    for i in range(n + 1):\n",
    "        dp.append([0] * (m + 1))  # Each row contains (m+1) zeroes\n",
    "\n",
    "    # Step 3: Fill the DP table row by row\n",
    "    for i in range(1, n + 1):  # Loop through each character of string1\n",
    "        for j in range(1, m + 1):  # Loop through each character of string2\n",
    "\n",
    "            # Step 4: If characters match\n",
    "            if string1[i - 1] == string2[j - 1]:\n",
    "                # Extend the LCS by 1\n",
    "                dp[i][j] = dp[i - 1][j - 1] + 1\n",
    "            else:\n",
    "                # Step 5: If characters do not match, take the maximum LCS excluding\n",
    "                # the current character of either string\n",
    "                dp[i][j] = max(dp[i - 1][j], dp[i][j - 1])\n",
    "\n",
    "    # Step 6: The final answer is in dp[n][m]\n",
    "    return dp[n][m]\n"
   ]
  },
  {
   "cell_type": "code",
   "execution_count": 6,
   "metadata": {},
   "outputs": [
    {
     "name": "stdout",
     "output_type": "stream",
     "text": [
      "3\n"
     ]
    }
   ],
   "source": [
    "string1 = \"abcde\"\n",
    "string2 = \"ace\"\n",
    "print(lcs(string1, string2))"
   ]
  }
 ],
 "metadata": {
  "kernelspec": {
   "display_name": "Python 3",
   "language": "python",
   "name": "python3"
  },
  "language_info": {
   "codemirror_mode": {
    "name": "ipython",
    "version": 3
   },
   "file_extension": ".py",
   "mimetype": "text/x-python",
   "name": "python",
   "nbconvert_exporter": "python",
   "pygments_lexer": "ipython3",
   "version": "3.10.6"
  }
 },
 "nbformat": 4,
 "nbformat_minor": 2
}
